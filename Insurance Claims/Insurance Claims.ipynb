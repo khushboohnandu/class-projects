{
 "cells": [
  {
   "cell_type": "code",
   "execution_count": 2,
   "id": "5f74116b",
   "metadata": {},
   "outputs": [],
   "source": [
    "import numpy as np\n",
    "import pandas as pd\n",
    "import matplotlib.pyplot as plt\n",
    "import seaborn as sns\n",
    "import datetime as dt"
   ]
  },
  {
   "cell_type": "markdown",
   "id": "b21ef3c0",
   "metadata": {},
   "source": [
    "1. Import claims_data.csv and cust_data.csv which is provided to you and combine the two datasets appropriately to create a 360-degree view of the data. Use the same for the subsequent questions."
   ]
  },
  {
   "cell_type": "code",
   "execution_count": 3,
   "id": "669ca96a",
   "metadata": {},
   "outputs": [],
   "source": [
    "claims = pd.read_csv(r'/Users/khushboochheda/Desktop/DataScience/Python/Case_Study/case_study5/claims.csv')\n",
    "cust_data = pd.read_csv(r'/Users/khushboochheda/Desktop/DataScience/Python/Case_Study/case_study5/cust_demographics.csv')"
   ]
  },
  {
   "cell_type": "code",
   "execution_count": 4,
   "id": "9173d9ba",
   "metadata": {},
   "outputs": [
    {
     "data": {
      "text/plain": [
       "(1100, 10)"
      ]
     },
     "execution_count": 4,
     "metadata": {},
     "output_type": "execute_result"
    }
   ],
   "source": [
    "claims.shape"
   ]
  },
  {
   "cell_type": "code",
   "execution_count": 5,
   "id": "86d0efed",
   "metadata": {},
   "outputs": [
    {
     "data": {
      "text/plain": [
       "(1085, 6)"
      ]
     },
     "execution_count": 5,
     "metadata": {},
     "output_type": "execute_result"
    }
   ],
   "source": [
    "cust_data.shape"
   ]
  },
  {
   "cell_type": "code",
   "execution_count": 6,
   "id": "01917e88",
   "metadata": {},
   "outputs": [
    {
     "data": {
      "text/html": [
       "<div>\n",
       "<style scoped>\n",
       "    .dataframe tbody tr th:only-of-type {\n",
       "        vertical-align: middle;\n",
       "    }\n",
       "\n",
       "    .dataframe tbody tr th {\n",
       "        vertical-align: top;\n",
       "    }\n",
       "\n",
       "    .dataframe thead th {\n",
       "        text-align: right;\n",
       "    }\n",
       "</style>\n",
       "<table border=\"1\" class=\"dataframe\">\n",
       "  <thead>\n",
       "    <tr style=\"text-align: right;\">\n",
       "      <th></th>\n",
       "      <th>claim_id</th>\n",
       "      <th>customer_id</th>\n",
       "      <th>incident_cause</th>\n",
       "      <th>claim_date</th>\n",
       "      <th>claim_area</th>\n",
       "      <th>police_report</th>\n",
       "      <th>claim_type</th>\n",
       "      <th>claim_amount</th>\n",
       "      <th>total_policy_claims</th>\n",
       "      <th>fraudulent</th>\n",
       "    </tr>\n",
       "  </thead>\n",
       "  <tbody>\n",
       "    <tr>\n",
       "      <th>0</th>\n",
       "      <td>54004764</td>\n",
       "      <td>21868593</td>\n",
       "      <td>Driver error</td>\n",
       "      <td>11/27/2017</td>\n",
       "      <td>Auto</td>\n",
       "      <td>No</td>\n",
       "      <td>Material only</td>\n",
       "      <td>$2980</td>\n",
       "      <td>1.0</td>\n",
       "      <td>No</td>\n",
       "    </tr>\n",
       "    <tr>\n",
       "      <th>1</th>\n",
       "      <td>33985796</td>\n",
       "      <td>75740424</td>\n",
       "      <td>Crime</td>\n",
       "      <td>10/03/2018</td>\n",
       "      <td>Home</td>\n",
       "      <td>Unknown</td>\n",
       "      <td>Material only</td>\n",
       "      <td>$2980</td>\n",
       "      <td>3.0</td>\n",
       "      <td>No</td>\n",
       "    </tr>\n",
       "  </tbody>\n",
       "</table>\n",
       "</div>"
      ],
      "text/plain": [
       "   claim_id  customer_id incident_cause  claim_date claim_area police_report  \\\n",
       "0  54004764     21868593   Driver error  11/27/2017       Auto            No   \n",
       "1  33985796     75740424          Crime  10/03/2018       Home       Unknown   \n",
       "\n",
       "      claim_type claim_amount  total_policy_claims fraudulent  \n",
       "0  Material only        $2980                  1.0         No  \n",
       "1  Material only        $2980                  3.0         No  "
      ]
     },
     "execution_count": 6,
     "metadata": {},
     "output_type": "execute_result"
    }
   ],
   "source": [
    "claims.head(2)"
   ]
  },
  {
   "cell_type": "code",
   "execution_count": 7,
   "id": "4c5fb0d7",
   "metadata": {},
   "outputs": [
    {
     "data": {
      "text/html": [
       "<div>\n",
       "<style scoped>\n",
       "    .dataframe tbody tr th:only-of-type {\n",
       "        vertical-align: middle;\n",
       "    }\n",
       "\n",
       "    .dataframe tbody tr th {\n",
       "        vertical-align: top;\n",
       "    }\n",
       "\n",
       "    .dataframe thead th {\n",
       "        text-align: right;\n",
       "    }\n",
       "</style>\n",
       "<table border=\"1\" class=\"dataframe\">\n",
       "  <thead>\n",
       "    <tr style=\"text-align: right;\">\n",
       "      <th></th>\n",
       "      <th>CUST_ID</th>\n",
       "      <th>gender</th>\n",
       "      <th>DateOfBirth</th>\n",
       "      <th>State</th>\n",
       "      <th>Contact</th>\n",
       "      <th>Segment</th>\n",
       "    </tr>\n",
       "  </thead>\n",
       "  <tbody>\n",
       "    <tr>\n",
       "      <th>0</th>\n",
       "      <td>21868593</td>\n",
       "      <td>Female</td>\n",
       "      <td>12-Jan-79</td>\n",
       "      <td>VT</td>\n",
       "      <td>789-916-8172</td>\n",
       "      <td>Platinum</td>\n",
       "    </tr>\n",
       "    <tr>\n",
       "      <th>1</th>\n",
       "      <td>75740424</td>\n",
       "      <td>Female</td>\n",
       "      <td>13-Jan-70</td>\n",
       "      <td>ME</td>\n",
       "      <td>265-543-1264</td>\n",
       "      <td>Silver</td>\n",
       "    </tr>\n",
       "  </tbody>\n",
       "</table>\n",
       "</div>"
      ],
      "text/plain": [
       "    CUST_ID  gender DateOfBirth State       Contact   Segment\n",
       "0  21868593  Female   12-Jan-79    VT  789-916-8172  Platinum\n",
       "1  75740424  Female   13-Jan-70    ME  265-543-1264    Silver"
      ]
     },
     "execution_count": 7,
     "metadata": {},
     "output_type": "execute_result"
    }
   ],
   "source": [
    "cust_data.head(2)"
   ]
  },
  {
   "cell_type": "code",
   "execution_count": 8,
   "id": "42d6ef7a",
   "metadata": {},
   "outputs": [
    {
     "data": {
      "text/plain": [
       "claim_id                0\n",
       "customer_id             0\n",
       "incident_cause          0\n",
       "claim_date              0\n",
       "claim_area              0\n",
       "police_report           0\n",
       "claim_type              0\n",
       "claim_amount           65\n",
       "total_policy_claims    10\n",
       "fraudulent              0\n",
       "dtype: int64"
      ]
     },
     "execution_count": 8,
     "metadata": {},
     "output_type": "execute_result"
    }
   ],
   "source": [
    "claims.isna().sum()"
   ]
  },
  {
   "cell_type": "code",
   "execution_count": 9,
   "id": "3b48ca3d",
   "metadata": {},
   "outputs": [],
   "source": [
    "cust360 = pd.merge(left=claims, right=cust_data, left_on= 'customer_id', right_on='CUST_ID', how = 'inner')"
   ]
  },
  {
   "cell_type": "code",
   "execution_count": 10,
   "id": "4d681fcb",
   "metadata": {},
   "outputs": [
    {
     "data": {
      "text/html": [
       "<div>\n",
       "<style scoped>\n",
       "    .dataframe tbody tr th:only-of-type {\n",
       "        vertical-align: middle;\n",
       "    }\n",
       "\n",
       "    .dataframe tbody tr th {\n",
       "        vertical-align: top;\n",
       "    }\n",
       "\n",
       "    .dataframe thead th {\n",
       "        text-align: right;\n",
       "    }\n",
       "</style>\n",
       "<table border=\"1\" class=\"dataframe\">\n",
       "  <thead>\n",
       "    <tr style=\"text-align: right;\">\n",
       "      <th></th>\n",
       "      <th>claim_id</th>\n",
       "      <th>customer_id</th>\n",
       "      <th>incident_cause</th>\n",
       "      <th>claim_date</th>\n",
       "      <th>claim_area</th>\n",
       "      <th>police_report</th>\n",
       "      <th>claim_type</th>\n",
       "      <th>claim_amount</th>\n",
       "      <th>total_policy_claims</th>\n",
       "      <th>fraudulent</th>\n",
       "      <th>CUST_ID</th>\n",
       "      <th>gender</th>\n",
       "      <th>DateOfBirth</th>\n",
       "      <th>State</th>\n",
       "      <th>Contact</th>\n",
       "      <th>Segment</th>\n",
       "    </tr>\n",
       "  </thead>\n",
       "  <tbody>\n",
       "    <tr>\n",
       "      <th>0</th>\n",
       "      <td>54004764</td>\n",
       "      <td>21868593</td>\n",
       "      <td>Driver error</td>\n",
       "      <td>11/27/2017</td>\n",
       "      <td>Auto</td>\n",
       "      <td>No</td>\n",
       "      <td>Material only</td>\n",
       "      <td>$2980</td>\n",
       "      <td>1.0</td>\n",
       "      <td>No</td>\n",
       "      <td>21868593</td>\n",
       "      <td>Female</td>\n",
       "      <td>12-Jan-79</td>\n",
       "      <td>VT</td>\n",
       "      <td>789-916-8172</td>\n",
       "      <td>Platinum</td>\n",
       "    </tr>\n",
       "    <tr>\n",
       "      <th>1</th>\n",
       "      <td>33985796</td>\n",
       "      <td>75740424</td>\n",
       "      <td>Crime</td>\n",
       "      <td>10/03/2018</td>\n",
       "      <td>Home</td>\n",
       "      <td>Unknown</td>\n",
       "      <td>Material only</td>\n",
       "      <td>$2980</td>\n",
       "      <td>3.0</td>\n",
       "      <td>No</td>\n",
       "      <td>75740424</td>\n",
       "      <td>Female</td>\n",
       "      <td>13-Jan-70</td>\n",
       "      <td>ME</td>\n",
       "      <td>265-543-1264</td>\n",
       "      <td>Silver</td>\n",
       "    </tr>\n",
       "    <tr>\n",
       "      <th>2</th>\n",
       "      <td>53522022</td>\n",
       "      <td>30308357</td>\n",
       "      <td>Other driver error</td>\n",
       "      <td>02/02/2018</td>\n",
       "      <td>Auto</td>\n",
       "      <td>No</td>\n",
       "      <td>Material only</td>\n",
       "      <td>$3369.5</td>\n",
       "      <td>1.0</td>\n",
       "      <td>Yes</td>\n",
       "      <td>30308357</td>\n",
       "      <td>Female</td>\n",
       "      <td>11-Mar-84</td>\n",
       "      <td>TN</td>\n",
       "      <td>798-631-4758</td>\n",
       "      <td>Silver</td>\n",
       "    </tr>\n",
       "    <tr>\n",
       "      <th>3</th>\n",
       "      <td>63017412</td>\n",
       "      <td>30308357</td>\n",
       "      <td>Driver error</td>\n",
       "      <td>04/04/2018</td>\n",
       "      <td>Auto</td>\n",
       "      <td>No</td>\n",
       "      <td>Material only</td>\n",
       "      <td>$1950</td>\n",
       "      <td>6.0</td>\n",
       "      <td>No</td>\n",
       "      <td>30308357</td>\n",
       "      <td>Female</td>\n",
       "      <td>11-Mar-84</td>\n",
       "      <td>TN</td>\n",
       "      <td>798-631-4758</td>\n",
       "      <td>Silver</td>\n",
       "    </tr>\n",
       "    <tr>\n",
       "      <th>4</th>\n",
       "      <td>13015401</td>\n",
       "      <td>47830476</td>\n",
       "      <td>Natural causes</td>\n",
       "      <td>06/17/2018</td>\n",
       "      <td>Auto</td>\n",
       "      <td>No</td>\n",
       "      <td>Material only</td>\n",
       "      <td>$1680</td>\n",
       "      <td>1.0</td>\n",
       "      <td>No</td>\n",
       "      <td>47830476</td>\n",
       "      <td>Female</td>\n",
       "      <td>01-May-86</td>\n",
       "      <td>MA</td>\n",
       "      <td>413-187-7945</td>\n",
       "      <td>Silver</td>\n",
       "    </tr>\n",
       "  </tbody>\n",
       "</table>\n",
       "</div>"
      ],
      "text/plain": [
       "   claim_id  customer_id      incident_cause  claim_date claim_area  \\\n",
       "0  54004764     21868593        Driver error  11/27/2017       Auto   \n",
       "1  33985796     75740424               Crime  10/03/2018       Home   \n",
       "2  53522022     30308357  Other driver error  02/02/2018       Auto   \n",
       "3  63017412     30308357        Driver error  04/04/2018       Auto   \n",
       "4  13015401     47830476      Natural causes  06/17/2018       Auto   \n",
       "\n",
       "  police_report     claim_type claim_amount  total_policy_claims fraudulent  \\\n",
       "0            No  Material only        $2980                  1.0         No   \n",
       "1       Unknown  Material only        $2980                  3.0         No   \n",
       "2            No  Material only      $3369.5                  1.0        Yes   \n",
       "3            No  Material only        $1950                  6.0         No   \n",
       "4            No  Material only        $1680                  1.0         No   \n",
       "\n",
       "    CUST_ID  gender DateOfBirth State       Contact   Segment  \n",
       "0  21868593  Female   12-Jan-79    VT  789-916-8172  Platinum  \n",
       "1  75740424  Female   13-Jan-70    ME  265-543-1264    Silver  \n",
       "2  30308357  Female   11-Mar-84    TN  798-631-4758    Silver  \n",
       "3  30308357  Female   11-Mar-84    TN  798-631-4758    Silver  \n",
       "4  47830476  Female   01-May-86    MA  413-187-7945    Silver  "
      ]
     },
     "execution_count": 10,
     "metadata": {},
     "output_type": "execute_result"
    }
   ],
   "source": [
    "cust360.head(5)"
   ]
  },
  {
   "cell_type": "code",
   "execution_count": 11,
   "id": "9ce934c1",
   "metadata": {},
   "outputs": [
    {
     "data": {
      "text/plain": [
       "(1085, 16)"
      ]
     },
     "execution_count": 11,
     "metadata": {},
     "output_type": "execute_result"
    }
   ],
   "source": [
    "cust360.shape"
   ]
  },
  {
   "cell_type": "markdown",
   "id": "4137de65",
   "metadata": {},
   "source": [
    "2. Perform a data audit for the datatypes and find out if there are any mismatch within the current datatypes of the columns and their business significance."
   ]
  },
  {
   "cell_type": "code",
   "execution_count": 12,
   "id": "427a3522",
   "metadata": {},
   "outputs": [
    {
     "data": {
      "text/plain": [
       "claim_id                 int64\n",
       "customer_id              int64\n",
       "incident_cause          object\n",
       "claim_date              object\n",
       "claim_area              object\n",
       "police_report           object\n",
       "claim_type              object\n",
       "claim_amount            object\n",
       "total_policy_claims    float64\n",
       "fraudulent              object\n",
       "CUST_ID                  int64\n",
       "gender                  object\n",
       "DateOfBirth             object\n",
       "State                   object\n",
       "Contact                 object\n",
       "Segment                 object\n",
       "dtype: object"
      ]
     },
     "execution_count": 12,
     "metadata": {},
     "output_type": "execute_result"
    }
   ],
   "source": [
    "cust360.dtypes"
   ]
  },
  {
   "cell_type": "code",
   "execution_count": 13,
   "id": "92624059",
   "metadata": {},
   "outputs": [],
   "source": [
    "cust360['claim_date'] = pd.to_datetime(cust360['claim_date'], format='%m/%d/%Y')"
   ]
  },
  {
   "cell_type": "code",
   "execution_count": 14,
   "id": "8b8143be",
   "metadata": {},
   "outputs": [],
   "source": [
    "cust360['DateOfBirth'] = pd.to_datetime(cust360['DateOfBirth'], format='%d-%b-%y')"
   ]
  },
  {
   "cell_type": "code",
   "execution_count": 15,
   "id": "4daa9ef3",
   "metadata": {},
   "outputs": [],
   "source": [
    "cust360.loc[(cust360.DateOfBirth.dt.year > 2020),\"DateOfBirth\"]=cust360[cust360.DateOfBirth.dt.year > 2020][\"DateOfBirth\"].apply(lambda x: x - pd.DateOffset(years=100))"
   ]
  },
  {
   "cell_type": "code",
   "execution_count": 16,
   "id": "92128ed8",
   "metadata": {},
   "outputs": [
    {
     "data": {
      "text/html": [
       "<div>\n",
       "<style scoped>\n",
       "    .dataframe tbody tr th:only-of-type {\n",
       "        vertical-align: middle;\n",
       "    }\n",
       "\n",
       "    .dataframe tbody tr th {\n",
       "        vertical-align: top;\n",
       "    }\n",
       "\n",
       "    .dataframe thead th {\n",
       "        text-align: right;\n",
       "    }\n",
       "</style>\n",
       "<table border=\"1\" class=\"dataframe\">\n",
       "  <thead>\n",
       "    <tr style=\"text-align: right;\">\n",
       "      <th></th>\n",
       "      <th>claim_id</th>\n",
       "      <th>customer_id</th>\n",
       "      <th>total_policy_claims</th>\n",
       "      <th>CUST_ID</th>\n",
       "    </tr>\n",
       "  </thead>\n",
       "  <tbody>\n",
       "    <tr>\n",
       "      <th>count</th>\n",
       "      <td>1.085000e+03</td>\n",
       "      <td>1.085000e+03</td>\n",
       "      <td>1075.000000</td>\n",
       "      <td>1.085000e+03</td>\n",
       "    </tr>\n",
       "    <tr>\n",
       "      <th>mean</th>\n",
       "      <td>4.891553e+07</td>\n",
       "      <td>5.076790e+07</td>\n",
       "      <td>1.586977</td>\n",
       "      <td>5.076790e+07</td>\n",
       "    </tr>\n",
       "    <tr>\n",
       "      <th>std</th>\n",
       "      <td>2.912818e+07</td>\n",
       "      <td>2.849625e+07</td>\n",
       "      <td>1.146859</td>\n",
       "      <td>2.849625e+07</td>\n",
       "    </tr>\n",
       "    <tr>\n",
       "      <th>min</th>\n",
       "      <td>2.683200e+04</td>\n",
       "      <td>1.545570e+05</td>\n",
       "      <td>1.000000</td>\n",
       "      <td>1.545570e+05</td>\n",
       "    </tr>\n",
       "    <tr>\n",
       "      <th>25%</th>\n",
       "      <td>2.404606e+07</td>\n",
       "      <td>2.645062e+07</td>\n",
       "      <td>1.000000</td>\n",
       "      <td>2.645062e+07</td>\n",
       "    </tr>\n",
       "    <tr>\n",
       "      <th>50%</th>\n",
       "      <td>4.855975e+07</td>\n",
       "      <td>4.975949e+07</td>\n",
       "      <td>1.000000</td>\n",
       "      <td>4.975949e+07</td>\n",
       "    </tr>\n",
       "    <tr>\n",
       "      <th>75%</th>\n",
       "      <td>7.404400e+07</td>\n",
       "      <td>7.609396e+07</td>\n",
       "      <td>2.000000</td>\n",
       "      <td>7.609396e+07</td>\n",
       "    </tr>\n",
       "    <tr>\n",
       "      <th>max</th>\n",
       "      <td>9.977548e+07</td>\n",
       "      <td>9.996199e+07</td>\n",
       "      <td>8.000000</td>\n",
       "      <td>9.996199e+07</td>\n",
       "    </tr>\n",
       "  </tbody>\n",
       "</table>\n",
       "</div>"
      ],
      "text/plain": [
       "           claim_id   customer_id  total_policy_claims       CUST_ID\n",
       "count  1.085000e+03  1.085000e+03          1075.000000  1.085000e+03\n",
       "mean   4.891553e+07  5.076790e+07             1.586977  5.076790e+07\n",
       "std    2.912818e+07  2.849625e+07             1.146859  2.849625e+07\n",
       "min    2.683200e+04  1.545570e+05             1.000000  1.545570e+05\n",
       "25%    2.404606e+07  2.645062e+07             1.000000  2.645062e+07\n",
       "50%    4.855975e+07  4.975949e+07             1.000000  4.975949e+07\n",
       "75%    7.404400e+07  7.609396e+07             2.000000  7.609396e+07\n",
       "max    9.977548e+07  9.996199e+07             8.000000  9.996199e+07"
      ]
     },
     "execution_count": 16,
     "metadata": {},
     "output_type": "execute_result"
    }
   ],
   "source": [
    "cust360.describe()"
   ]
  },
  {
   "cell_type": "markdown",
   "id": "49c4ee18",
   "metadata": {},
   "source": [
    "3. Convert the column claim_amount to numeric. Use the appropriate modules/attributes to remove the $ sign."
   ]
  },
  {
   "cell_type": "code",
   "execution_count": 17,
   "id": "b4800c3f",
   "metadata": {},
   "outputs": [],
   "source": [
    "cust360['claim_amount'] = cust360['claim_amount'].astype(str)"
   ]
  },
  {
   "cell_type": "code",
   "execution_count": 18,
   "id": "dc1fd389",
   "metadata": {},
   "outputs": [
    {
     "name": "stderr",
     "output_type": "stream",
     "text": [
      "/var/folders/k3/fjnr394n4pd95j1d6xr2f4cw0000gn/T/ipykernel_25706/2489668104.py:1: FutureWarning: The default value of regex will change from True to False in a future version. In addition, single character regular expressions will *not* be treated as literal strings when regex=True.\n",
      "  cust360['claim_amount'] = cust360.claim_amount.str.replace('$','')\n"
     ]
    }
   ],
   "source": [
    "cust360['claim_amount'] = cust360.claim_amount.str.replace('$','')"
   ]
  },
  {
   "cell_type": "code",
   "execution_count": 19,
   "id": "777c2b50",
   "metadata": {},
   "outputs": [],
   "source": [
    "cust360['claim_amount'] = np.where(cust360.claim_amount=='nan','',cust360.claim_amount)"
   ]
  },
  {
   "cell_type": "code",
   "execution_count": 20,
   "id": "e3b88821",
   "metadata": {},
   "outputs": [
    {
     "data": {
      "text/html": [
       "<div>\n",
       "<style scoped>\n",
       "    .dataframe tbody tr th:only-of-type {\n",
       "        vertical-align: middle;\n",
       "    }\n",
       "\n",
       "    .dataframe tbody tr th {\n",
       "        vertical-align: top;\n",
       "    }\n",
       "\n",
       "    .dataframe thead th {\n",
       "        text-align: right;\n",
       "    }\n",
       "</style>\n",
       "<table border=\"1\" class=\"dataframe\">\n",
       "  <thead>\n",
       "    <tr style=\"text-align: right;\">\n",
       "      <th></th>\n",
       "      <th>claim_id</th>\n",
       "      <th>customer_id</th>\n",
       "      <th>incident_cause</th>\n",
       "      <th>claim_date</th>\n",
       "      <th>claim_area</th>\n",
       "      <th>police_report</th>\n",
       "      <th>claim_type</th>\n",
       "      <th>claim_amount</th>\n",
       "      <th>total_policy_claims</th>\n",
       "      <th>fraudulent</th>\n",
       "      <th>CUST_ID</th>\n",
       "      <th>gender</th>\n",
       "      <th>DateOfBirth</th>\n",
       "      <th>State</th>\n",
       "      <th>Contact</th>\n",
       "      <th>Segment</th>\n",
       "    </tr>\n",
       "  </thead>\n",
       "  <tbody>\n",
       "    <tr>\n",
       "      <th>0</th>\n",
       "      <td>54004764</td>\n",
       "      <td>21868593</td>\n",
       "      <td>Driver error</td>\n",
       "      <td>2017-11-27</td>\n",
       "      <td>Auto</td>\n",
       "      <td>No</td>\n",
       "      <td>Material only</td>\n",
       "      <td>2980</td>\n",
       "      <td>1.0</td>\n",
       "      <td>No</td>\n",
       "      <td>21868593</td>\n",
       "      <td>Female</td>\n",
       "      <td>1979-01-12</td>\n",
       "      <td>VT</td>\n",
       "      <td>789-916-8172</td>\n",
       "      <td>Platinum</td>\n",
       "    </tr>\n",
       "    <tr>\n",
       "      <th>1</th>\n",
       "      <td>33985796</td>\n",
       "      <td>75740424</td>\n",
       "      <td>Crime</td>\n",
       "      <td>2018-10-03</td>\n",
       "      <td>Home</td>\n",
       "      <td>Unknown</td>\n",
       "      <td>Material only</td>\n",
       "      <td>2980</td>\n",
       "      <td>3.0</td>\n",
       "      <td>No</td>\n",
       "      <td>75740424</td>\n",
       "      <td>Female</td>\n",
       "      <td>1970-01-13</td>\n",
       "      <td>ME</td>\n",
       "      <td>265-543-1264</td>\n",
       "      <td>Silver</td>\n",
       "    </tr>\n",
       "  </tbody>\n",
       "</table>\n",
       "</div>"
      ],
      "text/plain": [
       "   claim_id  customer_id incident_cause claim_date claim_area police_report  \\\n",
       "0  54004764     21868593   Driver error 2017-11-27       Auto            No   \n",
       "1  33985796     75740424          Crime 2018-10-03       Home       Unknown   \n",
       "\n",
       "      claim_type claim_amount  total_policy_claims fraudulent   CUST_ID  \\\n",
       "0  Material only         2980                  1.0         No  21868593   \n",
       "1  Material only         2980                  3.0         No  75740424   \n",
       "\n",
       "   gender DateOfBirth State       Contact   Segment  \n",
       "0  Female  1979-01-12    VT  789-916-8172  Platinum  \n",
       "1  Female  1970-01-13    ME  265-543-1264    Silver  "
      ]
     },
     "execution_count": 20,
     "metadata": {},
     "output_type": "execute_result"
    }
   ],
   "source": [
    "cust360.head(2)"
   ]
  },
  {
   "cell_type": "code",
   "execution_count": 21,
   "id": "10898d4e",
   "metadata": {},
   "outputs": [],
   "source": [
    "cust360['claim_amount'] = pd.to_numeric(cust360['claim_amount'])"
   ]
  },
  {
   "cell_type": "code",
   "execution_count": 22,
   "id": "1ae1f509",
   "metadata": {},
   "outputs": [
    {
     "data": {
      "text/plain": [
       "claim_id                        int64\n",
       "customer_id                     int64\n",
       "incident_cause                 object\n",
       "claim_date             datetime64[ns]\n",
       "claim_area                     object\n",
       "police_report                  object\n",
       "claim_type                     object\n",
       "claim_amount                  float64\n",
       "total_policy_claims           float64\n",
       "fraudulent                     object\n",
       "CUST_ID                         int64\n",
       "gender                         object\n",
       "DateOfBirth            datetime64[ns]\n",
       "State                          object\n",
       "Contact                        object\n",
       "Segment                        object\n",
       "dtype: object"
      ]
     },
     "execution_count": 22,
     "metadata": {},
     "output_type": "execute_result"
    }
   ],
   "source": [
    "cust360.dtypes"
   ]
  },
  {
   "cell_type": "markdown",
   "id": "2ab7ed8f",
   "metadata": {},
   "source": [
    "4. Of all the injury claims, some of them have gone unreported with the police. Create an alert flag (1,0) for all such claims."
   ]
  },
  {
   "cell_type": "code",
   "execution_count": 23,
   "id": "0d37bee0",
   "metadata": {},
   "outputs": [],
   "source": [
    "cust360['unreported_police'] = np.where(cust360.police_report == 'Unknown',1,0)"
   ]
  },
  {
   "cell_type": "code",
   "execution_count": 24,
   "id": "c58c07d2",
   "metadata": {},
   "outputs": [
    {
     "data": {
      "text/html": [
       "<div>\n",
       "<style scoped>\n",
       "    .dataframe tbody tr th:only-of-type {\n",
       "        vertical-align: middle;\n",
       "    }\n",
       "\n",
       "    .dataframe tbody tr th {\n",
       "        vertical-align: top;\n",
       "    }\n",
       "\n",
       "    .dataframe thead th {\n",
       "        text-align: right;\n",
       "    }\n",
       "</style>\n",
       "<table border=\"1\" class=\"dataframe\">\n",
       "  <thead>\n",
       "    <tr style=\"text-align: right;\">\n",
       "      <th></th>\n",
       "      <th>claim_id</th>\n",
       "      <th>customer_id</th>\n",
       "      <th>incident_cause</th>\n",
       "      <th>claim_date</th>\n",
       "      <th>claim_area</th>\n",
       "      <th>police_report</th>\n",
       "      <th>claim_type</th>\n",
       "      <th>claim_amount</th>\n",
       "      <th>total_policy_claims</th>\n",
       "      <th>fraudulent</th>\n",
       "      <th>CUST_ID</th>\n",
       "      <th>gender</th>\n",
       "      <th>DateOfBirth</th>\n",
       "      <th>State</th>\n",
       "      <th>Contact</th>\n",
       "      <th>Segment</th>\n",
       "      <th>unreported_police</th>\n",
       "    </tr>\n",
       "  </thead>\n",
       "  <tbody>\n",
       "    <tr>\n",
       "      <th>0</th>\n",
       "      <td>54004764</td>\n",
       "      <td>21868593</td>\n",
       "      <td>Driver error</td>\n",
       "      <td>2017-11-27</td>\n",
       "      <td>Auto</td>\n",
       "      <td>No</td>\n",
       "      <td>Material only</td>\n",
       "      <td>2980.0</td>\n",
       "      <td>1.0</td>\n",
       "      <td>No</td>\n",
       "      <td>21868593</td>\n",
       "      <td>Female</td>\n",
       "      <td>1979-01-12</td>\n",
       "      <td>VT</td>\n",
       "      <td>789-916-8172</td>\n",
       "      <td>Platinum</td>\n",
       "      <td>0</td>\n",
       "    </tr>\n",
       "    <tr>\n",
       "      <th>1</th>\n",
       "      <td>33985796</td>\n",
       "      <td>75740424</td>\n",
       "      <td>Crime</td>\n",
       "      <td>2018-10-03</td>\n",
       "      <td>Home</td>\n",
       "      <td>Unknown</td>\n",
       "      <td>Material only</td>\n",
       "      <td>2980.0</td>\n",
       "      <td>3.0</td>\n",
       "      <td>No</td>\n",
       "      <td>75740424</td>\n",
       "      <td>Female</td>\n",
       "      <td>1970-01-13</td>\n",
       "      <td>ME</td>\n",
       "      <td>265-543-1264</td>\n",
       "      <td>Silver</td>\n",
       "      <td>1</td>\n",
       "    </tr>\n",
       "  </tbody>\n",
       "</table>\n",
       "</div>"
      ],
      "text/plain": [
       "   claim_id  customer_id incident_cause claim_date claim_area police_report  \\\n",
       "0  54004764     21868593   Driver error 2017-11-27       Auto            No   \n",
       "1  33985796     75740424          Crime 2018-10-03       Home       Unknown   \n",
       "\n",
       "      claim_type  claim_amount  total_policy_claims fraudulent   CUST_ID  \\\n",
       "0  Material only        2980.0                  1.0         No  21868593   \n",
       "1  Material only        2980.0                  3.0         No  75740424   \n",
       "\n",
       "   gender DateOfBirth State       Contact   Segment  unreported_police  \n",
       "0  Female  1979-01-12    VT  789-916-8172  Platinum                  0  \n",
       "1  Female  1970-01-13    ME  265-543-1264    Silver                  1  "
      ]
     },
     "execution_count": 24,
     "metadata": {},
     "output_type": "execute_result"
    }
   ],
   "source": [
    "cust360.head(2)"
   ]
  },
  {
   "cell_type": "markdown",
   "id": "29789396",
   "metadata": {},
   "source": [
    "5. One customer can claim for insurance more than once and in each claim, multiple categories of claims can be involved. However, customer ID should remain unique.\n",
    "Retain the most recent observation and delete any duplicated records in the data based on the customer ID column."
   ]
  },
  {
   "cell_type": "code",
   "execution_count": 25,
   "id": "e7735efd",
   "metadata": {},
   "outputs": [],
   "source": [
    "cust360 = cust360.drop_duplicates(subset='customer_id',keep='last')"
   ]
  },
  {
   "cell_type": "markdown",
   "id": "b22041f3",
   "metadata": {},
   "source": [
    "6. Check for missing values and impute the missing values with an appropriate value. (mean for continuous and mode for categorical)"
   ]
  },
  {
   "cell_type": "code",
   "execution_count": 26,
   "id": "42cab2f0",
   "metadata": {},
   "outputs": [
    {
     "data": {
      "text/plain": [
       "claim_id                0\n",
       "customer_id             0\n",
       "incident_cause          0\n",
       "claim_date              0\n",
       "claim_area              0\n",
       "police_report           0\n",
       "claim_type              0\n",
       "claim_amount           65\n",
       "total_policy_claims    10\n",
       "fraudulent              0\n",
       "CUST_ID                 0\n",
       "gender                  0\n",
       "DateOfBirth             0\n",
       "State                   0\n",
       "Contact                 0\n",
       "Segment                 0\n",
       "unreported_police       0\n",
       "dtype: int64"
      ]
     },
     "execution_count": 26,
     "metadata": {},
     "output_type": "execute_result"
    }
   ],
   "source": [
    "cust360.isna().sum()"
   ]
  },
  {
   "cell_type": "code",
   "execution_count": 27,
   "id": "41599144",
   "metadata": {},
   "outputs": [],
   "source": [
    "cust360['claim_amount'] = cust360.claim_amount.replace(np.nan,cust360.claim_amount.mean())"
   ]
  },
  {
   "cell_type": "code",
   "execution_count": 28,
   "id": "e55c87ba",
   "metadata": {},
   "outputs": [
    {
     "data": {
      "text/plain": [
       "0"
      ]
     },
     "execution_count": 28,
     "metadata": {},
     "output_type": "execute_result"
    }
   ],
   "source": [
    "cust360.claim_amount.isna().sum()"
   ]
  },
  {
   "cell_type": "code",
   "execution_count": 29,
   "id": "9c6c9c82",
   "metadata": {},
   "outputs": [],
   "source": [
    "cust360['total_policy_claims'] = cust360.total_policy_claims.fillna(cust360.total_policy_claims.mode()[0])"
   ]
  },
  {
   "cell_type": "code",
   "execution_count": 30,
   "id": "46e4f102",
   "metadata": {},
   "outputs": [
    {
     "data": {
      "text/plain": [
       "claim_id               0\n",
       "customer_id            0\n",
       "incident_cause         0\n",
       "claim_date             0\n",
       "claim_area             0\n",
       "police_report          0\n",
       "claim_type             0\n",
       "claim_amount           0\n",
       "total_policy_claims    0\n",
       "fraudulent             0\n",
       "CUST_ID                0\n",
       "gender                 0\n",
       "DateOfBirth            0\n",
       "State                  0\n",
       "Contact                0\n",
       "Segment                0\n",
       "unreported_police      0\n",
       "dtype: int64"
      ]
     },
     "execution_count": 30,
     "metadata": {},
     "output_type": "execute_result"
    }
   ],
   "source": [
    "cust360.isna().sum()"
   ]
  },
  {
   "cell_type": "markdown",
   "id": "848b26f5",
   "metadata": {},
   "source": [
    "7. Calculate the age of customers in years. Based on the age, categorize the customers according to the below criteria\n",
    "Children Youth Adult Senior\n",
    "< 18 \n",
    "18-30 \n",
    "30-60 \n",
    "greater than 60"
   ]
  },
  {
   "cell_type": "code",
   "execution_count": 31,
   "id": "c3186ef6",
   "metadata": {},
   "outputs": [],
   "source": [
    "current_year = pd.to_datetime('today').year\n",
    "dob_year = pd.DatetimeIndex(cust360['DateOfBirth']).year         \n",
    "x = dob_year-100                                               \n",
    "v = current_year - x\n",
    "y = current_year - dob_year\n",
    "cust360['age'] = (np.where(dob_year > current_year,v,y))"
   ]
  },
  {
   "cell_type": "code",
   "execution_count": 32,
   "id": "0bec312a",
   "metadata": {},
   "outputs": [],
   "source": [
    "#categorising(binning)\n",
    "cust360.loc[(cust360.age < 18),'AgeGroup'] = 'Children'\n",
    "cust360.loc[(cust360.age >=18) & (cust360.age <30),'AgeGroup'] = 'Youth'\n",
    "cust360.loc[(cust360.age >=30) & (cust360.age <60),'AgeGroup'] = 'Adult'\n",
    "cust360.loc[(cust360.age >=60),'AgeGroup'] = 'Senior'"
   ]
  },
  {
   "cell_type": "code",
   "execution_count": 33,
   "id": "10707d85",
   "metadata": {},
   "outputs": [
    {
     "data": {
      "text/html": [
       "<div>\n",
       "<style scoped>\n",
       "    .dataframe tbody tr th:only-of-type {\n",
       "        vertical-align: middle;\n",
       "    }\n",
       "\n",
       "    .dataframe tbody tr th {\n",
       "        vertical-align: top;\n",
       "    }\n",
       "\n",
       "    .dataframe thead th {\n",
       "        text-align: right;\n",
       "    }\n",
       "</style>\n",
       "<table border=\"1\" class=\"dataframe\">\n",
       "  <thead>\n",
       "    <tr style=\"text-align: right;\">\n",
       "      <th></th>\n",
       "      <th>claim_id</th>\n",
       "      <th>customer_id</th>\n",
       "      <th>incident_cause</th>\n",
       "      <th>claim_date</th>\n",
       "      <th>claim_area</th>\n",
       "      <th>police_report</th>\n",
       "      <th>claim_type</th>\n",
       "      <th>claim_amount</th>\n",
       "      <th>total_policy_claims</th>\n",
       "      <th>fraudulent</th>\n",
       "      <th>CUST_ID</th>\n",
       "      <th>gender</th>\n",
       "      <th>DateOfBirth</th>\n",
       "      <th>State</th>\n",
       "      <th>Contact</th>\n",
       "      <th>Segment</th>\n",
       "      <th>unreported_police</th>\n",
       "      <th>age</th>\n",
       "      <th>AgeGroup</th>\n",
       "    </tr>\n",
       "  </thead>\n",
       "  <tbody>\n",
       "    <tr>\n",
       "      <th>0</th>\n",
       "      <td>54004764</td>\n",
       "      <td>21868593</td>\n",
       "      <td>Driver error</td>\n",
       "      <td>2017-11-27</td>\n",
       "      <td>Auto</td>\n",
       "      <td>No</td>\n",
       "      <td>Material only</td>\n",
       "      <td>2980.0</td>\n",
       "      <td>1.0</td>\n",
       "      <td>No</td>\n",
       "      <td>21868593</td>\n",
       "      <td>Female</td>\n",
       "      <td>1979-01-12</td>\n",
       "      <td>VT</td>\n",
       "      <td>789-916-8172</td>\n",
       "      <td>Platinum</td>\n",
       "      <td>0</td>\n",
       "      <td>43</td>\n",
       "      <td>Adult</td>\n",
       "    </tr>\n",
       "    <tr>\n",
       "      <th>1</th>\n",
       "      <td>33985796</td>\n",
       "      <td>75740424</td>\n",
       "      <td>Crime</td>\n",
       "      <td>2018-10-03</td>\n",
       "      <td>Home</td>\n",
       "      <td>Unknown</td>\n",
       "      <td>Material only</td>\n",
       "      <td>2980.0</td>\n",
       "      <td>3.0</td>\n",
       "      <td>No</td>\n",
       "      <td>75740424</td>\n",
       "      <td>Female</td>\n",
       "      <td>1970-01-13</td>\n",
       "      <td>ME</td>\n",
       "      <td>265-543-1264</td>\n",
       "      <td>Silver</td>\n",
       "      <td>1</td>\n",
       "      <td>52</td>\n",
       "      <td>Adult</td>\n",
       "    </tr>\n",
       "    <tr>\n",
       "      <th>3</th>\n",
       "      <td>63017412</td>\n",
       "      <td>30308357</td>\n",
       "      <td>Driver error</td>\n",
       "      <td>2018-04-04</td>\n",
       "      <td>Auto</td>\n",
       "      <td>No</td>\n",
       "      <td>Material only</td>\n",
       "      <td>1950.0</td>\n",
       "      <td>6.0</td>\n",
       "      <td>No</td>\n",
       "      <td>30308357</td>\n",
       "      <td>Female</td>\n",
       "      <td>1984-03-11</td>\n",
       "      <td>TN</td>\n",
       "      <td>798-631-4758</td>\n",
       "      <td>Silver</td>\n",
       "      <td>0</td>\n",
       "      <td>38</td>\n",
       "      <td>Adult</td>\n",
       "    </tr>\n",
       "    <tr>\n",
       "      <th>5</th>\n",
       "      <td>91609100</td>\n",
       "      <td>47830476</td>\n",
       "      <td>Natural causes</td>\n",
       "      <td>2017-04-12</td>\n",
       "      <td>Auto</td>\n",
       "      <td>Unknown</td>\n",
       "      <td>Material only</td>\n",
       "      <td>1440.0</td>\n",
       "      <td>1.0</td>\n",
       "      <td>No</td>\n",
       "      <td>47830476</td>\n",
       "      <td>Female</td>\n",
       "      <td>1986-05-01</td>\n",
       "      <td>MA</td>\n",
       "      <td>413-187-7945</td>\n",
       "      <td>Silver</td>\n",
       "      <td>1</td>\n",
       "      <td>36</td>\n",
       "      <td>Adult</td>\n",
       "    </tr>\n",
       "    <tr>\n",
       "      <th>7</th>\n",
       "      <td>39219616</td>\n",
       "      <td>19269962</td>\n",
       "      <td>Other causes</td>\n",
       "      <td>2018-09-26</td>\n",
       "      <td>Auto</td>\n",
       "      <td>No</td>\n",
       "      <td>Material only</td>\n",
       "      <td>2240.0</td>\n",
       "      <td>2.0</td>\n",
       "      <td>No</td>\n",
       "      <td>19269962</td>\n",
       "      <td>Male</td>\n",
       "      <td>1977-05-13</td>\n",
       "      <td>NV</td>\n",
       "      <td>956-871-8691</td>\n",
       "      <td>Gold</td>\n",
       "      <td>0</td>\n",
       "      <td>45</td>\n",
       "      <td>Adult</td>\n",
       "    </tr>\n",
       "  </tbody>\n",
       "</table>\n",
       "</div>"
      ],
      "text/plain": [
       "   claim_id  customer_id  incident_cause claim_date claim_area police_report  \\\n",
       "0  54004764     21868593    Driver error 2017-11-27       Auto            No   \n",
       "1  33985796     75740424           Crime 2018-10-03       Home       Unknown   \n",
       "3  63017412     30308357    Driver error 2018-04-04       Auto            No   \n",
       "5  91609100     47830476  Natural causes 2017-04-12       Auto       Unknown   \n",
       "7  39219616     19269962    Other causes 2018-09-26       Auto            No   \n",
       "\n",
       "      claim_type  claim_amount  total_policy_claims fraudulent   CUST_ID  \\\n",
       "0  Material only        2980.0                  1.0         No  21868593   \n",
       "1  Material only        2980.0                  3.0         No  75740424   \n",
       "3  Material only        1950.0                  6.0         No  30308357   \n",
       "5  Material only        1440.0                  1.0         No  47830476   \n",
       "7  Material only        2240.0                  2.0         No  19269962   \n",
       "\n",
       "   gender DateOfBirth State       Contact   Segment  unreported_police  age  \\\n",
       "0  Female  1979-01-12    VT  789-916-8172  Platinum                  0   43   \n",
       "1  Female  1970-01-13    ME  265-543-1264    Silver                  1   52   \n",
       "3  Female  1984-03-11    TN  798-631-4758    Silver                  0   38   \n",
       "5  Female  1986-05-01    MA  413-187-7945    Silver                  1   36   \n",
       "7    Male  1977-05-13    NV  956-871-8691      Gold                  0   45   \n",
       "\n",
       "  AgeGroup  \n",
       "0    Adult  \n",
       "1    Adult  \n",
       "3    Adult  \n",
       "5    Adult  \n",
       "7    Adult  "
      ]
     },
     "execution_count": 33,
     "metadata": {},
     "output_type": "execute_result"
    }
   ],
   "source": [
    "cust360.head(5)"
   ]
  },
  {
   "cell_type": "markdown",
   "id": "4816f59b",
   "metadata": {},
   "source": [
    "8. What is the average amount claimed by the customers from various segments?"
   ]
  },
  {
   "cell_type": "code",
   "execution_count": 34,
   "id": "1748e583",
   "metadata": {},
   "outputs": [
    {
     "data": {
      "text/html": [
       "<div>\n",
       "<style scoped>\n",
       "    .dataframe tbody tr th:only-of-type {\n",
       "        vertical-align: middle;\n",
       "    }\n",
       "\n",
       "    .dataframe tbody tr th {\n",
       "        vertical-align: top;\n",
       "    }\n",
       "\n",
       "    .dataframe thead th {\n",
       "        text-align: right;\n",
       "    }\n",
       "</style>\n",
       "<table border=\"1\" class=\"dataframe\">\n",
       "  <thead>\n",
       "    <tr style=\"text-align: right;\">\n",
       "      <th></th>\n",
       "      <th>claim_amount</th>\n",
       "    </tr>\n",
       "    <tr>\n",
       "      <th>Segment</th>\n",
       "      <th></th>\n",
       "    </tr>\n",
       "  </thead>\n",
       "  <tbody>\n",
       "    <tr>\n",
       "      <th>Gold</th>\n",
       "      <td>12846.39</td>\n",
       "    </tr>\n",
       "    <tr>\n",
       "      <th>Platinum</th>\n",
       "      <td>12371.64</td>\n",
       "    </tr>\n",
       "    <tr>\n",
       "      <th>Silver</th>\n",
       "      <td>12267.15</td>\n",
       "    </tr>\n",
       "  </tbody>\n",
       "</table>\n",
       "</div>"
      ],
      "text/plain": [
       "          claim_amount\n",
       "Segment               \n",
       "Gold          12846.39\n",
       "Platinum      12371.64\n",
       "Silver        12267.15"
      ]
     },
     "execution_count": 34,
     "metadata": {},
     "output_type": "execute_result"
    }
   ],
   "source": [
    "round(cust360.groupby(['Segment'])[['claim_amount']].mean(),2)"
   ]
  },
  {
   "cell_type": "markdown",
   "id": "d397124b",
   "metadata": {},
   "source": [
    "9. What is the total claim amount based on incident cause for all the claims that have been done at least 20 days prior to 1st of October, 2018."
   ]
  },
  {
   "cell_type": "code",
   "execution_count": 35,
   "id": "51a3a6b5",
   "metadata": {},
   "outputs": [],
   "source": [
    "incident_amt = round(cust360.loc[cust360.claim_date < '2018-09-10' ,:].groupby('incident_cause')[['claim_amount']].sum(),2)"
   ]
  },
  {
   "cell_type": "code",
   "execution_count": 36,
   "id": "0b8c3a33",
   "metadata": {},
   "outputs": [
    {
     "data": {
      "text/html": [
       "<div>\n",
       "<style scoped>\n",
       "    .dataframe tbody tr th:only-of-type {\n",
       "        vertical-align: middle;\n",
       "    }\n",
       "\n",
       "    .dataframe tbody tr th {\n",
       "        vertical-align: top;\n",
       "    }\n",
       "\n",
       "    .dataframe thead th {\n",
       "        text-align: right;\n",
       "    }\n",
       "</style>\n",
       "<table border=\"1\" class=\"dataframe\">\n",
       "  <thead>\n",
       "    <tr style=\"text-align: right;\">\n",
       "      <th></th>\n",
       "      <th>claim_amount</th>\n",
       "    </tr>\n",
       "    <tr>\n",
       "      <th>incident_cause</th>\n",
       "      <th></th>\n",
       "    </tr>\n",
       "  </thead>\n",
       "  <tbody>\n",
       "    <tr>\n",
       "      <th>Crime</th>\n",
       "      <td>721937.45</td>\n",
       "    </tr>\n",
       "    <tr>\n",
       "      <th>Driver error</th>\n",
       "      <td>3315847.88</td>\n",
       "    </tr>\n",
       "    <tr>\n",
       "      <th>Natural causes</th>\n",
       "      <td>1312744.91</td>\n",
       "    </tr>\n",
       "    <tr>\n",
       "      <th>Other causes</th>\n",
       "      <td>3723147.30</td>\n",
       "    </tr>\n",
       "    <tr>\n",
       "      <th>Other driver error</th>\n",
       "      <td>3277533.37</td>\n",
       "    </tr>\n",
       "  </tbody>\n",
       "</table>\n",
       "</div>"
      ],
      "text/plain": [
       "                    claim_amount\n",
       "incident_cause                  \n",
       "Crime                  721937.45\n",
       "Driver error          3315847.88\n",
       "Natural causes        1312744.91\n",
       "Other causes          3723147.30\n",
       "Other driver error    3277533.37"
      ]
     },
     "execution_count": 36,
     "metadata": {},
     "output_type": "execute_result"
    }
   ],
   "source": [
    "incident_amt"
   ]
  },
  {
   "cell_type": "markdown",
   "id": "79c864c2",
   "metadata": {},
   "source": [
    "10. How many adults from TX, DE and AK claimed insurance for driver related issues and causes?"
   ]
  },
  {
   "cell_type": "code",
   "execution_count": 37,
   "id": "22b489aa",
   "metadata": {},
   "outputs": [
    {
     "data": {
      "text/html": [
       "<div>\n",
       "<style scoped>\n",
       "    .dataframe tbody tr th:only-of-type {\n",
       "        vertical-align: middle;\n",
       "    }\n",
       "\n",
       "    .dataframe tbody tr th {\n",
       "        vertical-align: top;\n",
       "    }\n",
       "\n",
       "    .dataframe thead th {\n",
       "        text-align: right;\n",
       "    }\n",
       "</style>\n",
       "<table border=\"1\" class=\"dataframe\">\n",
       "  <thead>\n",
       "    <tr style=\"text-align: right;\">\n",
       "      <th></th>\n",
       "      <th>claim_amount</th>\n",
       "    </tr>\n",
       "    <tr>\n",
       "      <th>State</th>\n",
       "      <th></th>\n",
       "    </tr>\n",
       "  </thead>\n",
       "  <tbody>\n",
       "    <tr>\n",
       "      <th>AK</th>\n",
       "      <td>19</td>\n",
       "    </tr>\n",
       "    <tr>\n",
       "      <th>DE</th>\n",
       "      <td>29</td>\n",
       "    </tr>\n",
       "    <tr>\n",
       "      <th>TX</th>\n",
       "      <td>10</td>\n",
       "    </tr>\n",
       "  </tbody>\n",
       "</table>\n",
       "</div>"
      ],
      "text/plain": [
       "       claim_amount\n",
       "State              \n",
       "AK               19\n",
       "DE               29\n",
       "TX               10"
      ]
     },
     "execution_count": 37,
     "metadata": {},
     "output_type": "execute_result"
    }
   ],
   "source": [
    "cust360.loc[cust360.incident_cause.str.lower().str.contains('driver')& (cust360.State == 'TX')| (cust360.State == 'DE')|\n",
    "           (cust360.State == 'AK')].groupby('State')[['claim_amount']].count()"
   ]
  },
  {
   "cell_type": "markdown",
   "id": "2eed90ef",
   "metadata": {},
   "source": [
    "11. Draw a pie chart between the aggregated value of claim amount based on gender and segment. Represent the claim amount as a percentage on the pie chart."
   ]
  },
  {
   "cell_type": "code",
   "execution_count": 38,
   "id": "501b5ee1",
   "metadata": {},
   "outputs": [],
   "source": [
    "agg_value = cust360.groupby(['Segment','gender'])[['claim_amount']].sum()"
   ]
  },
  {
   "cell_type": "code",
   "execution_count": 39,
   "id": "7a92cbad",
   "metadata": {},
   "outputs": [
    {
     "data": {
      "text/html": [
       "<div>\n",
       "<style scoped>\n",
       "    .dataframe tbody tr th:only-of-type {\n",
       "        vertical-align: middle;\n",
       "    }\n",
       "\n",
       "    .dataframe tbody tr th {\n",
       "        vertical-align: top;\n",
       "    }\n",
       "\n",
       "    .dataframe thead th {\n",
       "        text-align: right;\n",
       "    }\n",
       "</style>\n",
       "<table border=\"1\" class=\"dataframe\">\n",
       "  <thead>\n",
       "    <tr style=\"text-align: right;\">\n",
       "      <th></th>\n",
       "      <th></th>\n",
       "      <th>claim_amount</th>\n",
       "    </tr>\n",
       "    <tr>\n",
       "      <th>Segment</th>\n",
       "      <th>gender</th>\n",
       "      <th></th>\n",
       "    </tr>\n",
       "  </thead>\n",
       "  <tbody>\n",
       "    <tr>\n",
       "      <th rowspan=\"2\" valign=\"top\">Gold</th>\n",
       "      <th>Female</th>\n",
       "      <td>2.110042e+06</td>\n",
       "    </tr>\n",
       "    <tr>\n",
       "      <th>Male</th>\n",
       "      <td>2.655967e+06</td>\n",
       "    </tr>\n",
       "    <tr>\n",
       "      <th rowspan=\"2\" valign=\"top\">Platinum</th>\n",
       "      <th>Female</th>\n",
       "      <td>2.369720e+06</td>\n",
       "    </tr>\n",
       "    <tr>\n",
       "      <th>Male</th>\n",
       "      <td>2.096443e+06</td>\n",
       "    </tr>\n",
       "    <tr>\n",
       "      <th rowspan=\"2\" valign=\"top\">Silver</th>\n",
       "      <th>Female</th>\n",
       "      <td>1.897302e+06</td>\n",
       "    </tr>\n",
       "    <tr>\n",
       "      <th>Male</th>\n",
       "      <td>2.347131e+06</td>\n",
       "    </tr>\n",
       "  </tbody>\n",
       "</table>\n",
       "</div>"
      ],
      "text/plain": [
       "                 claim_amount\n",
       "Segment  gender              \n",
       "Gold     Female  2.110042e+06\n",
       "         Male    2.655967e+06\n",
       "Platinum Female  2.369720e+06\n",
       "         Male    2.096443e+06\n",
       "Silver   Female  1.897302e+06\n",
       "         Male    2.347131e+06"
      ]
     },
     "execution_count": 39,
     "metadata": {},
     "output_type": "execute_result"
    }
   ],
   "source": [
    "agg_value"
   ]
  },
  {
   "cell_type": "code",
   "execution_count": 40,
   "id": "adcf7e8c",
   "metadata": {},
   "outputs": [],
   "source": [
    "agg_value_pivot = agg_value.pivot_table(index='Segment', columns= 'gender', aggfunc='sum', values='claim_amount')"
   ]
  },
  {
   "cell_type": "code",
   "execution_count": 41,
   "id": "b1a4dceb",
   "metadata": {},
   "outputs": [
    {
     "data": {
      "text/html": [
       "<div>\n",
       "<style scoped>\n",
       "    .dataframe tbody tr th:only-of-type {\n",
       "        vertical-align: middle;\n",
       "    }\n",
       "\n",
       "    .dataframe tbody tr th {\n",
       "        vertical-align: top;\n",
       "    }\n",
       "\n",
       "    .dataframe thead th {\n",
       "        text-align: right;\n",
       "    }\n",
       "</style>\n",
       "<table border=\"1\" class=\"dataframe\">\n",
       "  <thead>\n",
       "    <tr style=\"text-align: right;\">\n",
       "      <th>gender</th>\n",
       "      <th>Female</th>\n",
       "      <th>Male</th>\n",
       "    </tr>\n",
       "    <tr>\n",
       "      <th>Segment</th>\n",
       "      <th></th>\n",
       "      <th></th>\n",
       "    </tr>\n",
       "  </thead>\n",
       "  <tbody>\n",
       "    <tr>\n",
       "      <th>Gold</th>\n",
       "      <td>2.110042e+06</td>\n",
       "      <td>2.655967e+06</td>\n",
       "    </tr>\n",
       "    <tr>\n",
       "      <th>Platinum</th>\n",
       "      <td>2.369720e+06</td>\n",
       "      <td>2.096443e+06</td>\n",
       "    </tr>\n",
       "    <tr>\n",
       "      <th>Silver</th>\n",
       "      <td>1.897302e+06</td>\n",
       "      <td>2.347131e+06</td>\n",
       "    </tr>\n",
       "  </tbody>\n",
       "</table>\n",
       "</div>"
      ],
      "text/plain": [
       "gender          Female          Male\n",
       "Segment                             \n",
       "Gold      2.110042e+06  2.655967e+06\n",
       "Platinum  2.369720e+06  2.096443e+06\n",
       "Silver    1.897302e+06  2.347131e+06"
      ]
     },
     "execution_count": 41,
     "metadata": {},
     "output_type": "execute_result"
    }
   ],
   "source": [
    "agg_value_pivot"
   ]
  },
  {
   "cell_type": "code",
   "execution_count": 42,
   "id": "dc0b34b9",
   "metadata": {},
   "outputs": [
    {
     "data": {
      "image/png": "[encoded data removed]",
      "text/plain": [
       "<Figure size 1440x720 with 3 Axes>"
      ]
     },
     "metadata": {},
     "output_type": "display_data"
    }
   ],
   "source": [
    "agg_value_pivot.T.plot(kind = 'pie',subplots= True, legend= False,figsize=(20,10))\n",
    "plt.show()"
   ]
  },
  {
   "cell_type": "markdown",
   "id": "53fd3f91",
   "metadata": {},
   "source": [
    "12. Among males and females, which gender had claimed the most for any type of driver related issues? E.g. This metric can be compared using a bar chart"
   ]
  },
  {
   "cell_type": "code",
   "execution_count": 43,
   "id": "48b9eff6",
   "metadata": {},
   "outputs": [],
   "source": [
    "driver_issue = cust360.loc[cust360.incident_cause.str.lower().str.contains('driver')].groupby(['gender'])[['gender']].count().add_prefix('count_of_').reset_index()"
   ]
  },
  {
   "cell_type": "code",
   "execution_count": 44,
   "id": "19cd5235",
   "metadata": {},
   "outputs": [
    {
     "data": {
      "text/html": [
       "<div>\n",
       "<style scoped>\n",
       "    .dataframe tbody tr th:only-of-type {\n",
       "        vertical-align: middle;\n",
       "    }\n",
       "\n",
       "    .dataframe tbody tr th {\n",
       "        vertical-align: top;\n",
       "    }\n",
       "\n",
       "    .dataframe thead th {\n",
       "        text-align: right;\n",
       "    }\n",
       "</style>\n",
       "<table border=\"1\" class=\"dataframe\">\n",
       "  <thead>\n",
       "    <tr style=\"text-align: right;\">\n",
       "      <th></th>\n",
       "      <th>gender</th>\n",
       "      <th>count_of_gender</th>\n",
       "    </tr>\n",
       "  </thead>\n",
       "  <tbody>\n",
       "    <tr>\n",
       "      <th>0</th>\n",
       "      <td>Female</td>\n",
       "      <td>221</td>\n",
       "    </tr>\n",
       "    <tr>\n",
       "      <th>1</th>\n",
       "      <td>Male</td>\n",
       "      <td>281</td>\n",
       "    </tr>\n",
       "  </tbody>\n",
       "</table>\n",
       "</div>"
      ],
      "text/plain": [
       "   gender  count_of_gender\n",
       "0  Female              221\n",
       "1    Male              281"
      ]
     },
     "execution_count": 44,
     "metadata": {},
     "output_type": "execute_result"
    }
   ],
   "source": [
    "driver_issue"
   ]
  },
  {
   "cell_type": "code",
   "execution_count": 45,
   "id": "de068bb0",
   "metadata": {},
   "outputs": [
    {
     "data": {
      "text/plain": [
       "[]"
      ]
     },
     "execution_count": 45,
     "metadata": {},
     "output_type": "execute_result"
    },
    {
     "data": {
      "image/png": "[encoded data removed]",
      "text/plain": [
       "<Figure size 432x288 with 1 Axes>"
      ]
     },
     "metadata": {
      "needs_background": "light"
     },
     "output_type": "display_data"
    }
   ],
   "source": [
    "sns.barplot(x= \"gender\", y= \"count_of_gender\", data= driver_issue)\n",
    "plt.plot()"
   ]
  },
  {
   "cell_type": "markdown",
   "id": "e13cf9f7",
   "metadata": {},
   "source": [
    "13 Which age group had the maximum fraudulent policy claims? Visualize it on a bar chart."
   ]
  },
  {
   "cell_type": "code",
   "execution_count": 46,
   "id": "3d1fe5e9",
   "metadata": {},
   "outputs": [],
   "source": [
    "cust360[\"Frauds\"]= np.where(cust360.fraudulent == \"Yes\",1,0)"
   ]
  },
  {
   "cell_type": "code",
   "execution_count": 47,
   "id": "91a4421e",
   "metadata": {},
   "outputs": [
    {
     "data": {
      "text/html": [
       "<div>\n",
       "<style scoped>\n",
       "    .dataframe tbody tr th:only-of-type {\n",
       "        vertical-align: middle;\n",
       "    }\n",
       "\n",
       "    .dataframe tbody tr th {\n",
       "        vertical-align: top;\n",
       "    }\n",
       "\n",
       "    .dataframe thead th {\n",
       "        text-align: right;\n",
       "    }\n",
       "</style>\n",
       "<table border=\"1\" class=\"dataframe\">\n",
       "  <thead>\n",
       "    <tr style=\"text-align: right;\">\n",
       "      <th></th>\n",
       "      <th>AgeGroup</th>\n",
       "      <th>Frauds</th>\n",
       "    </tr>\n",
       "  </thead>\n",
       "  <tbody>\n",
       "    <tr>\n",
       "      <th>0</th>\n",
       "      <td>Adult</td>\n",
       "      <td>185</td>\n",
       "    </tr>\n",
       "    <tr>\n",
       "      <th>1</th>\n",
       "      <td>Senior</td>\n",
       "      <td>21</td>\n",
       "    </tr>\n",
       "    <tr>\n",
       "      <th>2</th>\n",
       "      <td>Youth</td>\n",
       "      <td>39</td>\n",
       "    </tr>\n",
       "  </tbody>\n",
       "</table>\n",
       "</div>"
      ],
      "text/plain": [
       "  AgeGroup  Frauds\n",
       "0    Adult     185\n",
       "1   Senior      21\n",
       "2    Youth      39"
      ]
     },
     "execution_count": 47,
     "metadata": {},
     "output_type": "execute_result"
    }
   ],
   "source": [
    "Agewise_frauds= cust360.groupby([\"AgeGroup\"])[\"Frauds\"].sum().reset_index()\n",
    "Agewise_frauds"
   ]
  },
  {
   "cell_type": "code",
   "execution_count": 48,
   "id": "8a859cc9",
   "metadata": {},
   "outputs": [
    {
     "data": {
      "text/plain": [
       "[]"
      ]
     },
     "execution_count": 48,
     "metadata": {},
     "output_type": "execute_result"
    },
    {
     "data": {
      "image/png": "[encoded data removed]",
      "text/plain": [
       "<Figure size 432x288 with 1 Axes>"
      ]
     },
     "metadata": {
      "needs_background": "light"
     },
     "output_type": "display_data"
    }
   ],
   "source": [
    "sns.barplot(x= 'AgeGroup', y= 'Frauds', data= Agewise_frauds)\n",
    "plt.plot()"
   ]
  },
  {
   "cell_type": "markdown",
   "id": "b04683f8",
   "metadata": {},
   "source": [
    "14. Visualize the monthly trend of the total amount that has been claimed by the customers. Ensure that on the “month” axis, the month is in a chronological order not alphabetical order."
   ]
  },
  {
   "cell_type": "code",
   "execution_count": 49,
   "id": "57fdd9ee",
   "metadata": {},
   "outputs": [],
   "source": [
    "cust360['month'] = pd.to_datetime(cust360['claim_date'])"
   ]
  },
  {
   "cell_type": "code",
   "execution_count": 50,
   "id": "9c279e35",
   "metadata": {},
   "outputs": [],
   "source": [
    "cust360['Month'] = cust360['month'].dt.month"
   ]
  },
  {
   "cell_type": "code",
   "execution_count": 51,
   "id": "8d72888b",
   "metadata": {},
   "outputs": [
    {
     "data": {
      "image/png": "[encoded data removed]",
      "text/plain": [
       "<Figure size 432x288 with 1 Axes>"
      ]
     },
     "metadata": {
      "needs_background": "light"
     },
     "output_type": "display_data"
    }
   ],
   "source": [
    "cust360.pivot_table(index= 'Month', values= 'claim_amount').plot(kind='bar')\n",
    "plt.ylabel('Total amount spend')\n",
    "plt.show()"
   ]
  },
  {
   "cell_type": "markdown",
   "id": "23aad8a5",
   "metadata": {},
   "source": [
    "15. What is the average claim amount for gender and age categories and suitably represent the above using a facetted bar chart, one facet that represents fraudulent claims and the other for non-fraudulent claims."
   ]
  },
  {
   "cell_type": "code",
   "execution_count": 52,
   "id": "15979988",
   "metadata": {},
   "outputs": [],
   "source": [
    "Frauds_gender= pd.DataFrame(cust360.loc[(cust360.fraudulent==\"Yes\")].groupby([\"gender\",\"AgeGroup\"])\n",
    "                            [[\"claim_amount\"]].mean().add_prefix(\"Fraud_\"))"
   ]
  },
  {
   "cell_type": "code",
   "execution_count": 53,
   "id": "5cf6e11c",
   "metadata": {},
   "outputs": [],
   "source": [
    "Non_Frauds_gender= pd.DataFrame(cust360.loc[(cust360.fraudulent==\"No\")].groupby([\"gender\",\"AgeGroup\"])\n",
    "                            [[\"claim_amount\"]].mean().add_prefix(\"Non_Fraud_\"))"
   ]
  },
  {
   "cell_type": "code",
   "execution_count": 54,
   "id": "f2ebab56",
   "metadata": {},
   "outputs": [],
   "source": [
    "Claims_age_gender=round(pd.merge(Frauds_gender,Non_Frauds_gender, on=[\"gender\",\"AgeGroup\"]),2)"
   ]
  },
  {
   "cell_type": "code",
   "execution_count": 55,
   "id": "3585d261",
   "metadata": {},
   "outputs": [
    {
     "data": {
      "image/png": "[encoded data removed]",
      "text/plain": [
       "<Figure size 720x720 with 2 Axes>"
      ]
     },
     "metadata": {
      "needs_background": "light"
     },
     "output_type": "display_data"
    }
   ],
   "source": [
    "Claims_age_gender.plot(kind=\"bar\", subplots= True, legend= True,figsize=(10,10))\n",
    "plt.show()"
   ]
  },
  {
   "cell_type": "code",
   "execution_count": 56,
   "id": "faab907c",
   "metadata": {},
   "outputs": [],
   "source": [
    "import scipy.stats as stats"
   ]
  },
  {
   "cell_type": "markdown",
   "id": "306ba48a",
   "metadata": {},
   "source": [
    "16. Is there any similarity in the amount claimed by males and females?"
   ]
  },
  {
   "cell_type": "code",
   "execution_count": 57,
   "id": "9757c237",
   "metadata": {},
   "outputs": [],
   "source": [
    "claim_male = cust360['claim_amount'].loc[cust360['gender']== 'Male']"
   ]
  },
  {
   "cell_type": "code",
   "execution_count": 58,
   "id": "9a912fad",
   "metadata": {},
   "outputs": [],
   "source": [
    "claim_female = cust360['claim_amount'].loc[cust360['gender']== 'Male']"
   ]
  },
  {
   "cell_type": "code",
   "execution_count": 59,
   "id": "c6ffd1a9",
   "metadata": {},
   "outputs": [
    {
     "data": {
      "text/plain": [
       "12884.829631308425"
      ]
     },
     "execution_count": 59,
     "metadata": {},
     "output_type": "execute_result"
    }
   ],
   "source": [
    "claim_male.mean()"
   ]
  },
  {
   "cell_type": "code",
   "execution_count": 60,
   "id": "a26e60bc",
   "metadata": {},
   "outputs": [
    {
     "data": {
      "text/plain": [
       "12884.829631308425"
      ]
     },
     "execution_count": 60,
     "metadata": {},
     "output_type": "execute_result"
    }
   ],
   "source": [
    "claim_female.mean()"
   ]
  },
  {
   "cell_type": "code",
   "execution_count": 61,
   "id": "a149f0e0",
   "metadata": {},
   "outputs": [],
   "source": [
    "# Two sample t-test:\n",
    "# To conduct a valid test: (Assumptions for two sample t-test) \n",
    "# * Data values must be independent. Measurements for one observation do not affect measurements for any other observation.\n",
    "# * Data in each group must be obtained via a random sample from the population.\n",
    "# * Data in each group are normally distributed.\n",
    "# * Data values are continuous.\n",
    "# * The variances for the two independent groups are equal."
   ]
  },
  {
   "cell_type": "code",
   "execution_count": 62,
   "id": "711a8e6a",
   "metadata": {},
   "outputs": [],
   "source": [
    "# checking variance"
   ]
  },
  {
   "cell_type": "code",
   "execution_count": 63,
   "id": "2b90e172",
   "metadata": {},
   "outputs": [],
   "source": [
    "eq_var = stats.ttest_ind(a= claim_male, b= claim_female, equal_var= True)"
   ]
  },
  {
   "cell_type": "code",
   "execution_count": 64,
   "id": "5846cfae",
   "metadata": {},
   "outputs": [
    {
     "data": {
      "text/plain": [
       "0.0"
      ]
     },
     "execution_count": 64,
     "metadata": {},
     "output_type": "execute_result"
    }
   ],
   "source": [
    "eq_var.statistic"
   ]
  },
  {
   "cell_type": "code",
   "execution_count": 65,
   "id": "6b6178b0",
   "metadata": {},
   "outputs": [],
   "source": [
    "uneq_var = stats.ttest_ind(a= claim_male, b= claim_female, equal_var= False)"
   ]
  },
  {
   "cell_type": "code",
   "execution_count": 66,
   "id": "d985eca1",
   "metadata": {},
   "outputs": [
    {
     "data": {
      "text/plain": [
       "0.0"
      ]
     },
     "execution_count": 66,
     "metadata": {},
     "output_type": "execute_result"
    }
   ],
   "source": [
    "uneq_var.statistic"
   ]
  },
  {
   "cell_type": "code",
   "execution_count": 67,
   "id": "88a22dee",
   "metadata": {},
   "outputs": [],
   "source": [
    "t = eq_var.statistic"
   ]
  },
  {
   "cell_type": "code",
   "execution_count": 68,
   "id": "50f29d16",
   "metadata": {},
   "outputs": [],
   "source": [
    "p = eq_var.pvalue"
   ]
  },
  {
   "cell_type": "code",
   "execution_count": 69,
   "id": "1f505ce5",
   "metadata": {},
   "outputs": [
    {
     "name": "stdout",
     "output_type": "stream",
     "text": [
      " For the above test, the t-score is 0.0 and the p-value is 1.0\n"
     ]
    }
   ],
   "source": [
    "print(\" For the above test, the t-score is {} and the p-value is {}\".format(t,p))"
   ]
  },
  {
   "cell_type": "code",
   "execution_count": 70,
   "id": "5fa347a9",
   "metadata": {},
   "outputs": [
    {
     "name": "stdout",
     "output_type": "stream",
     "text": [
      "We fail to reject null hypothesis\n"
     ]
    }
   ],
   "source": [
    "if(p<0.05):\n",
    "    print('We reject null hypothesis')\n",
    "else:\n",
    "    print('We fail to reject null hypothesis')"
   ]
  },
  {
   "cell_type": "code",
   "execution_count": 71,
   "id": "281db22c",
   "metadata": {},
   "outputs": [],
   "source": [
    "# As the significance value of t test is greater than 0.05 we can safely conclude \n",
    "# that there is a similarity in amount claimed by males and females."
   ]
  },
  {
   "cell_type": "markdown",
   "id": "d17ad56f",
   "metadata": {},
   "source": [
    "17. Is there any relationship between age category and segment?"
   ]
  },
  {
   "cell_type": "code",
   "execution_count": 72,
   "id": "80f1e4cc",
   "metadata": {},
   "outputs": [],
   "source": [
    "# since age and segment are categorical variables therefore to check relationship between age and segment we use chi-square method"
   ]
  },
  {
   "cell_type": "code",
   "execution_count": 73,
   "id": "e5d090aa",
   "metadata": {},
   "outputs": [],
   "source": [
    "#H0 = there is no relation\n",
    "#Ha = there is relation"
   ]
  },
  {
   "cell_type": "code",
   "execution_count": 74,
   "id": "304606df",
   "metadata": {},
   "outputs": [
    {
     "data": {
      "text/html": [
       "<div>\n",
       "<style scoped>\n",
       "    .dataframe tbody tr th:only-of-type {\n",
       "        vertical-align: middle;\n",
       "    }\n",
       "\n",
       "    .dataframe tbody tr th {\n",
       "        vertical-align: top;\n",
       "    }\n",
       "\n",
       "    .dataframe thead th {\n",
       "        text-align: right;\n",
       "    }\n",
       "</style>\n",
       "<table border=\"1\" class=\"dataframe\">\n",
       "  <thead>\n",
       "    <tr style=\"text-align: right;\">\n",
       "      <th>Segment</th>\n",
       "      <th>Gold</th>\n",
       "      <th>Platinum</th>\n",
       "      <th>Silver</th>\n",
       "      <th>All</th>\n",
       "    </tr>\n",
       "    <tr>\n",
       "      <th>AgeGroup</th>\n",
       "      <th></th>\n",
       "      <th></th>\n",
       "      <th></th>\n",
       "      <th></th>\n",
       "    </tr>\n",
       "  </thead>\n",
       "  <tbody>\n",
       "    <tr>\n",
       "      <th>Adult</th>\n",
       "      <td>272</td>\n",
       "      <td>266</td>\n",
       "      <td>257</td>\n",
       "      <td>795</td>\n",
       "    </tr>\n",
       "    <tr>\n",
       "      <th>Senior</th>\n",
       "      <td>28</td>\n",
       "      <td>26</td>\n",
       "      <td>21</td>\n",
       "      <td>75</td>\n",
       "    </tr>\n",
       "    <tr>\n",
       "      <th>Youth</th>\n",
       "      <td>71</td>\n",
       "      <td>69</td>\n",
       "      <td>68</td>\n",
       "      <td>208</td>\n",
       "    </tr>\n",
       "    <tr>\n",
       "      <th>All</th>\n",
       "      <td>371</td>\n",
       "      <td>361</td>\n",
       "      <td>346</td>\n",
       "      <td>1078</td>\n",
       "    </tr>\n",
       "  </tbody>\n",
       "</table>\n",
       "</div>"
      ],
      "text/plain": [
       "Segment   Gold  Platinum  Silver   All\n",
       "AgeGroup                              \n",
       "Adult      272       266     257   795\n",
       "Senior      28        26      21    75\n",
       "Youth       71        69      68   208\n",
       "All        371       361     346  1078"
      ]
     },
     "execution_count": 74,
     "metadata": {},
     "output_type": "execute_result"
    }
   ],
   "source": [
    "age_segment = pd.crosstab(cust360.AgeGroup, cust360.Segment, margins=True)\n",
    "age_segment"
   ]
  },
  {
   "cell_type": "code",
   "execution_count": 75,
   "id": "637cec5b",
   "metadata": {},
   "outputs": [
    {
     "data": {
      "text/plain": [
       "(0.6654696397990999,\n",
       " 0.999896981610665,\n",
       " 9,\n",
       " array([[ 273.6038961 ,  266.22912801,  255.16697588,  795.        ],\n",
       "        [  25.81168831,   25.11595547,   24.07235622,   75.        ],\n",
       "        [  71.58441558,   69.65491651,   66.7606679 ,  208.        ],\n",
       "        [ 371.        ,  361.        ,  346.        , 1078.        ]]))"
      ]
     },
     "execution_count": 75,
     "metadata": {},
     "output_type": "execute_result"
    }
   ],
   "source": [
    "chi_test = stats.chi2_contingency(observed= age_segment)\n",
    "chi_test"
   ]
  },
  {
   "cell_type": "code",
   "execution_count": 76,
   "id": "a18368fe",
   "metadata": {},
   "outputs": [
    {
     "name": "stdout",
     "output_type": "stream",
     "text": [
      "The chi square stat is 0.6654696397990999 and the p value is 0.999896981610665\n"
     ]
    }
   ],
   "source": [
    "print(\"The chi square stat is {} and the p value is {}\".format(chi_test[0],chi_test[1]))"
   ]
  },
  {
   "cell_type": "code",
   "execution_count": 77,
   "id": "e3b1b5bc",
   "metadata": {},
   "outputs": [],
   "source": [
    "#since the p-value > 0.05, we cannot reject null hypothesis therefore there is no relationship between Age and segment"
   ]
  },
  {
   "cell_type": "markdown",
   "id": "fb86a645",
   "metadata": {},
   "source": [
    "18. The current year has shown a significant rise in claim amounts as\n",
    "compared to 2016-17 fiscal average which was $10,000."
   ]
  },
  {
   "cell_type": "code",
   "execution_count": 78,
   "id": "12a7087a",
   "metadata": {},
   "outputs": [],
   "source": [
    "# since here we have one sample and one hupothetical mean, we use ttest_1sample"
   ]
  },
  {
   "cell_type": "code",
   "execution_count": 79,
   "id": "505adf5a",
   "metadata": {},
   "outputs": [],
   "source": [
    "# H0 = no relation\n",
    "# Ha = there exists relation"
   ]
  },
  {
   "cell_type": "code",
   "execution_count": 80,
   "id": "d38965a5",
   "metadata": {},
   "outputs": [],
   "source": [
    "cust360['year'] = cust360.month.dt.year"
   ]
  },
  {
   "cell_type": "code",
   "execution_count": 97,
   "id": "c1e7605c",
   "metadata": {},
   "outputs": [],
   "source": [
    "Current_year= cust360.loc[cust360.year == 2018][\"claim_amount\"]"
   ]
  },
  {
   "cell_type": "code",
   "execution_count": 101,
   "id": "89c2f8c2",
   "metadata": {},
   "outputs": [],
   "source": [
    "ttest= stats.ttest_1samp(Current_year,10000)"
   ]
  },
  {
   "cell_type": "code",
   "execution_count": 104,
   "id": "0c113ab1",
   "metadata": {},
   "outputs": [],
   "source": [
    "p_value = ttest.pvalue"
   ]
  },
  {
   "cell_type": "code",
   "execution_count": 105,
   "id": "f46c5703",
   "metadata": {},
   "outputs": [
    {
     "name": "stdout",
     "output_type": "stream",
     "text": [
      "We reject null hypothesis\n"
     ]
    }
   ],
   "source": [
    "if(p_value<0.05):\n",
    "    print('We reject null hypothesis')\n",
    "else:\n",
    "    print('We fail to reject null hypothesis')"
   ]
  },
  {
   "cell_type": "code",
   "execution_count": 106,
   "id": "3a53f6b0",
   "metadata": {},
   "outputs": [],
   "source": [
    "#since , p-value < 0.05, there is increase in average compared to 2016-17"
   ]
  },
  {
   "cell_type": "markdown",
   "id": "d6494084",
   "metadata": {},
   "source": [
    "19. Is there any difference between age groups and insurance claims?"
   ]
  },
  {
   "cell_type": "code",
   "execution_count": 82,
   "id": "de9f4a9d",
   "metadata": {},
   "outputs": [],
   "source": [
    "# here there is one categorical variable i.e age groups whereas insurance claims is numerical variable, \n",
    "# therefore we use f-test\n",
    "# H0 = average are equal\n",
    "# Ha = atleast one average is different from other samples"
   ]
  },
  {
   "cell_type": "code",
   "execution_count": 83,
   "id": "dd7f6602",
   "metadata": {},
   "outputs": [
    {
     "data": {
      "text/html": [
       "<div>\n",
       "<style scoped>\n",
       "    .dataframe tbody tr th:only-of-type {\n",
       "        vertical-align: middle;\n",
       "    }\n",
       "\n",
       "    .dataframe tbody tr th {\n",
       "        vertical-align: top;\n",
       "    }\n",
       "\n",
       "    .dataframe thead th {\n",
       "        text-align: right;\n",
       "    }\n",
       "</style>\n",
       "<table border=\"1\" class=\"dataframe\">\n",
       "  <thead>\n",
       "    <tr style=\"text-align: right;\">\n",
       "      <th></th>\n",
       "      <th>claim_id</th>\n",
       "      <th>customer_id</th>\n",
       "      <th>incident_cause</th>\n",
       "      <th>claim_date</th>\n",
       "      <th>claim_area</th>\n",
       "      <th>police_report</th>\n",
       "      <th>claim_type</th>\n",
       "      <th>claim_amount</th>\n",
       "      <th>total_policy_claims</th>\n",
       "      <th>fraudulent</th>\n",
       "      <th>...</th>\n",
       "      <th>State</th>\n",
       "      <th>Contact</th>\n",
       "      <th>Segment</th>\n",
       "      <th>unreported_police</th>\n",
       "      <th>age</th>\n",
       "      <th>AgeGroup</th>\n",
       "      <th>Frauds</th>\n",
       "      <th>month</th>\n",
       "      <th>Month</th>\n",
       "      <th>year</th>\n",
       "    </tr>\n",
       "  </thead>\n",
       "  <tbody>\n",
       "    <tr>\n",
       "      <th>0</th>\n",
       "      <td>54004764</td>\n",
       "      <td>21868593</td>\n",
       "      <td>Driver error</td>\n",
       "      <td>2017-11-27</td>\n",
       "      <td>Auto</td>\n",
       "      <td>No</td>\n",
       "      <td>Material only</td>\n",
       "      <td>2980.0</td>\n",
       "      <td>1.0</td>\n",
       "      <td>No</td>\n",
       "      <td>...</td>\n",
       "      <td>VT</td>\n",
       "      <td>789-916-8172</td>\n",
       "      <td>Platinum</td>\n",
       "      <td>0</td>\n",
       "      <td>43</td>\n",
       "      <td>Adult</td>\n",
       "      <td>0</td>\n",
       "      <td>2017-11-27</td>\n",
       "      <td>11</td>\n",
       "      <td>2017</td>\n",
       "    </tr>\n",
       "    <tr>\n",
       "      <th>1</th>\n",
       "      <td>33985796</td>\n",
       "      <td>75740424</td>\n",
       "      <td>Crime</td>\n",
       "      <td>2018-10-03</td>\n",
       "      <td>Home</td>\n",
       "      <td>Unknown</td>\n",
       "      <td>Material only</td>\n",
       "      <td>2980.0</td>\n",
       "      <td>3.0</td>\n",
       "      <td>No</td>\n",
       "      <td>...</td>\n",
       "      <td>ME</td>\n",
       "      <td>265-543-1264</td>\n",
       "      <td>Silver</td>\n",
       "      <td>1</td>\n",
       "      <td>52</td>\n",
       "      <td>Adult</td>\n",
       "      <td>0</td>\n",
       "      <td>2018-10-03</td>\n",
       "      <td>10</td>\n",
       "      <td>2018</td>\n",
       "    </tr>\n",
       "    <tr>\n",
       "      <th>3</th>\n",
       "      <td>63017412</td>\n",
       "      <td>30308357</td>\n",
       "      <td>Driver error</td>\n",
       "      <td>2018-04-04</td>\n",
       "      <td>Auto</td>\n",
       "      <td>No</td>\n",
       "      <td>Material only</td>\n",
       "      <td>1950.0</td>\n",
       "      <td>6.0</td>\n",
       "      <td>No</td>\n",
       "      <td>...</td>\n",
       "      <td>TN</td>\n",
       "      <td>798-631-4758</td>\n",
       "      <td>Silver</td>\n",
       "      <td>0</td>\n",
       "      <td>38</td>\n",
       "      <td>Adult</td>\n",
       "      <td>0</td>\n",
       "      <td>2018-04-04</td>\n",
       "      <td>4</td>\n",
       "      <td>2018</td>\n",
       "    </tr>\n",
       "  </tbody>\n",
       "</table>\n",
       "<p>3 rows × 23 columns</p>\n",
       "</div>"
      ],
      "text/plain": [
       "   claim_id  customer_id incident_cause claim_date claim_area police_report  \\\n",
       "0  54004764     21868593   Driver error 2017-11-27       Auto            No   \n",
       "1  33985796     75740424          Crime 2018-10-03       Home       Unknown   \n",
       "3  63017412     30308357   Driver error 2018-04-04       Auto            No   \n",
       "\n",
       "      claim_type  claim_amount  total_policy_claims fraudulent  ...  State  \\\n",
       "0  Material only        2980.0                  1.0         No  ...     VT   \n",
       "1  Material only        2980.0                  3.0         No  ...     ME   \n",
       "3  Material only        1950.0                  6.0         No  ...     TN   \n",
       "\n",
       "        Contact   Segment unreported_police age AgeGroup  Frauds      month  \\\n",
       "0  789-916-8172  Platinum                 0  43    Adult       0 2017-11-27   \n",
       "1  265-543-1264    Silver                 1  52    Adult       0 2018-10-03   \n",
       "3  798-631-4758    Silver                 0  38    Adult       0 2018-04-04   \n",
       "\n",
       "  Month  year  \n",
       "0    11  2017  \n",
       "1    10  2018  \n",
       "3     4  2018  \n",
       "\n",
       "[3 rows x 23 columns]"
      ]
     },
     "execution_count": 83,
     "metadata": {},
     "output_type": "execute_result"
    }
   ],
   "source": [
    "cust360.head(3)"
   ]
  },
  {
   "cell_type": "code",
   "execution_count": 84,
   "id": "3e1519b4",
   "metadata": {},
   "outputs": [],
   "source": [
    "age_claims_Y = cust360['total_policy_claims'].loc[cust360['AgeGroup']== 'Youth']"
   ]
  },
  {
   "cell_type": "code",
   "execution_count": 85,
   "id": "4751c6ab",
   "metadata": {},
   "outputs": [],
   "source": [
    "age_claims_A = cust360['total_policy_claims'].loc[cust360['AgeGroup']== 'Adult']"
   ]
  },
  {
   "cell_type": "code",
   "execution_count": 86,
   "id": "b11e12fa",
   "metadata": {},
   "outputs": [],
   "source": [
    "f_test = stats.f_oneway(age_claims_Y,age_claims_A)"
   ]
  },
  {
   "cell_type": "code",
   "execution_count": 87,
   "id": "96afea57",
   "metadata": {},
   "outputs": [],
   "source": [
    "f = f_test.statistic"
   ]
  },
  {
   "cell_type": "code",
   "execution_count": 88,
   "id": "9759aeb1",
   "metadata": {},
   "outputs": [],
   "source": [
    "p = f_test.pvalue"
   ]
  },
  {
   "cell_type": "code",
   "execution_count": 89,
   "id": "ee0f1d50",
   "metadata": {},
   "outputs": [
    {
     "name": "stdout",
     "output_type": "stream",
     "text": [
      "The f-value is 0.9080839705107974 and the p value is 0.34085335479229917\n"
     ]
    }
   ],
   "source": [
    "print(\"The f-value is {} and the p value is {}\".format(f,p))"
   ]
  },
  {
   "cell_type": "code",
   "execution_count": 90,
   "id": "b062b819",
   "metadata": {},
   "outputs": [
    {
     "name": "stdout",
     "output_type": "stream",
     "text": [
      "We fail to reject null hypothesis\n"
     ]
    }
   ],
   "source": [
    "if(p<0.05):\n",
    "    print('We reject null hypothesis')\n",
    "else:\n",
    "    print('We fail to reject null hypothesis')"
   ]
  },
  {
   "cell_type": "code",
   "execution_count": 91,
   "id": "cc69a3ff",
   "metadata": {},
   "outputs": [],
   "source": [
    "# here since the p-value is not less than 0.05, therefore null hypothesis is \n",
    "# not rejected and hence there is no influence of age in claims"
   ]
  },
  {
   "cell_type": "markdown",
   "id": "2efa26fd",
   "metadata": {},
   "source": [
    "20. Is there any relationship between total number of policy claims and the claimed amount?"
   ]
  },
  {
   "cell_type": "code",
   "execution_count": 92,
   "id": "30e31c8d",
   "metadata": {},
   "outputs": [],
   "source": [
    "# here we find correlation to find relationship"
   ]
  },
  {
   "cell_type": "code",
   "execution_count": 93,
   "id": "04700320",
   "metadata": {},
   "outputs": [],
   "source": [
    "cust360['total_policy_claims'] = pd.to_numeric(cust360['total_policy_claims'])"
   ]
  },
  {
   "cell_type": "code",
   "execution_count": 94,
   "id": "1a9933f0",
   "metadata": {},
   "outputs": [
    {
     "data": {
      "text/plain": [
       "-0.022392720732099892"
      ]
     },
     "execution_count": 94,
     "metadata": {},
     "output_type": "execute_result"
    }
   ],
   "source": [
    "cust360.total_policy_claims.corr(cust360.claim_amount)"
   ]
  },
  {
   "cell_type": "code",
   "execution_count": 95,
   "id": "085c73d7",
   "metadata": {},
   "outputs": [],
   "source": [
    "# since correlation is negative thus there is no relation between number of policy claims and claim amount"
   ]
  },
  {
   "cell_type": "code",
   "execution_count": null,
   "id": "dde8e6ec",
   "metadata": {},
   "outputs": [],
   "source": []
  }
 ],
 "metadata": {
  "kernelspec": {
   "display_name": "Python 3 (ipykernel)",
   "language": "python",
   "name": "python3"
  },
  "language_info": {
   "codemirror_mode": {
    "name": "ipython",
    "version": 3
   },
   "file_extension": ".py",
   "mimetype": "text/x-python",
   "name": "python",
   "nbconvert_exporter": "python",
   "pygments_lexer": "ipython3",
   "version": "3.9.12"
  }
 },
 "nbformat": 4,
 "nbformat_minor": 5
}
